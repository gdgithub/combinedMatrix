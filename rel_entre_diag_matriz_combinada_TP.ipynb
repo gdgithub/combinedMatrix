{
  "nbformat": 4,
  "nbformat_minor": 0,
  "metadata": {
    "colab": {
      "name": "rel_entre_diag_matriz_combinada_TP",
      "version": "0.3.2",
      "views": {},
      "default_view": {},
      "provenance": [],
      "collapsed_sections": [
        "XbwQquzeJYFK",
        "YWLz5R-Tg0x2"
      ]
    },
    "kernelspec": {
      "name": "python2",
      "display_name": "Python 2"
    },
    "accelerator": "GPU"
  },
  "cells": [
    {
      "metadata": {
        "id": "Ncmw1EpgjTXK",
        "colab_type": "code",
        "colab": {
          "autoexec": {
            "startup": false,
            "wait_interval": 0
          },
          "base_uri": "https://localhost:8080/",
          "height": 136
        },
        "outputId": "7dfdaf34-4c63-421d-93c9-ef63fa631c57",
        "executionInfo": {
          "status": "ok",
          "timestamp": 1527956173235,
          "user_tz": 240,
          "elapsed": 5450,
          "user": {
            "displayName": "Ivan Gil",
            "photoUrl": "https://lh3.googleusercontent.com/a/default-user=s128",
            "userId": "108918885131467386107"
          }
        }
      },
      "cell_type": "code",
      "source": [
        "!if cd combinedmatrixlib; then git pull && cd ..; else \\\n",
        "git clone https://ivangilcruz@bitbucket.org/ivangilcruz/combinedmatrixlib.git; fi"
      ],
      "execution_count": 1,
      "outputs": [
        {
          "output_type": "stream",
          "text": [
            "/bin/sh: 1: cd: can't cd to combinedmatrixlib\r\n",
            "Cloning into 'combinedmatrixlib'...\n",
            "remote: Counting objects: 147, done.\u001b[K\n",
            "remote: Compressing objects: 100% (144/144), done.\u001b[K\n",
            "remote: Total 147 (delta 81), reused 0 (delta 0)\u001b[K\n",
            "Receiving objects: 100% (147/147), 19.96 KiB | 1.05 MiB/s, done.\n",
            "Resolving deltas: 100% (81/81), done.\n"
          ],
          "name": "stdout"
        }
      ]
    },
    {
      "metadata": {
        "id": "cNSXeTpkjyRj",
        "colab_type": "code",
        "colab": {
          "autoexec": {
            "startup": false,
            "wait_interval": 0
          }
        }
      },
      "cell_type": "code",
      "source": [
        "from combinedmatrixlib.matrix import *"
      ],
      "execution_count": 0,
      "outputs": []
    },
    {
      "metadata": {
        "id": "Xp7WfMTdj8EO",
        "colab_type": "code",
        "colab": {
          "autoexec": {
            "startup": false,
            "wait_interval": 0
          }
        }
      },
      "cell_type": "code",
      "source": [
        "msa=Matrix.create_symmetric_matrix(4, arbitrary=False, aleatory=True, interval=[0,5], integerEntry=True)"
      ],
      "execution_count": 0,
      "outputs": []
    },
    {
      "metadata": {
        "id": "zCKLPgBEx-k3",
        "colab_type": "code",
        "colab": {
          "autoexec": {
            "startup": false,
            "wait_interval": 0
          }
        }
      },
      "cell_type": "code",
      "source": [
        "msg=Matrix.create_symmetric_matrix(4, arbitrary=True, aleatory=True, interval=[0,5], integerEntry=True)"
      ],
      "execution_count": 0,
      "outputs": []
    },
    {
      "metadata": {
        "id": "rTqGKqZHkGwC",
        "colab_type": "code",
        "colab": {
          "autoexec": {
            "startup": false,
            "wait_interval": 0
          }
        }
      },
      "cell_type": "code",
      "source": [
        "m1=Matrix.create_totally_positive_matrix(4, interval=[0,5], integerEntry=True)[\"product\"]"
      ],
      "execution_count": 0,
      "outputs": []
    },
    {
      "metadata": {
        "id": "ZqyknUQf_hVT",
        "colab_type": "code",
        "colab": {
          "autoexec": {
            "startup": false,
            "wait_interval": 0
          }
        }
      },
      "cell_type": "code",
      "source": [
        "mc=m1.combined_matrix()"
      ],
      "execution_count": 0,
      "outputs": []
    },
    {
      "metadata": {
        "id": "65yTSTwi_43x",
        "colab_type": "code",
        "colab": {
          "autoexec": {
            "startup": false,
            "wait_interval": 0
          },
          "base_uri": "https://localhost:8080/",
          "height": 102
        },
        "outputId": "6749f2a8-a56f-4db5-d5f6-2f689b4c6684",
        "executionInfo": {
          "status": "ok",
          "timestamp": 1526770292192,
          "user_tz": 240,
          "elapsed": 553,
          "user": {
            "displayName": "Ivan Gil",
            "photoUrl": "https://lh3.googleusercontent.com/a/default-user=s128",
            "userId": "108918885131467386107"
          }
        }
      },
      "cell_type": "code",
      "source": [
        "mc"
      ],
      "execution_count": 7,
      "outputs": [
        {
          "output_type": "execute_result",
          "data": {
            "text/plain": [
              "Matrix([\n",
              "[  7895/2, -12843/2,   3150,     -675],\n",
              "[-20943/2,    19285, -12375,   7125/2],\n",
              "[   11025, -93375/4,  18928, -26433/4],\n",
              "[   -4500,  41925/4,  -9702,  14887/4]])"
            ]
          },
          "metadata": {
            "tags": []
          },
          "execution_count": 7
        }
      ]
    },
    {
      "metadata": {
        "id": "3nD_UKiAAxG7",
        "colab_type": "code",
        "colab": {
          "autoexec": {
            "startup": false,
            "wait_interval": 0
          },
          "base_uri": "https://localhost:8080/",
          "height": 34
        },
        "outputId": "54bc5163-4a26-4506-e006-f3c7ca6bb999",
        "executionInfo": {
          "status": "ok",
          "timestamp": 1526770293151,
          "user_tz": 240,
          "elapsed": 494,
          "user": {
            "displayName": "Ivan Gil",
            "photoUrl": "https://lh3.googleusercontent.com/a/default-user=s128",
            "userId": "108918885131467386107"
          }
        }
      },
      "cell_type": "code",
      "source": [
        "sum(mc.row(3))"
      ],
      "execution_count": 8,
      "outputs": [
        {
          "output_type": "execute_result",
          "data": {
            "text/plain": [
              "1"
            ]
          },
          "metadata": {
            "tags": []
          },
          "execution_count": 8
        }
      ]
    },
    {
      "metadata": {
        "id": "dNrFm0zJA7bP",
        "colab_type": "code",
        "colab": {
          "autoexec": {
            "startup": false,
            "wait_interval": 0
          },
          "base_uri": "https://localhost:8080/",
          "height": 34
        },
        "outputId": "ed8e654d-058d-4ef9-a173-06789f04826c",
        "executionInfo": {
          "status": "ok",
          "timestamp": 1526770293658,
          "user_tz": 240,
          "elapsed": 451,
          "user": {
            "displayName": "Ivan Gil",
            "photoUrl": "https://lh3.googleusercontent.com/a/default-user=s128",
            "userId": "108918885131467386107"
          }
        }
      },
      "cell_type": "code",
      "source": [
        "sum(mc.col(2))"
      ],
      "execution_count": 9,
      "outputs": [
        {
          "output_type": "execute_result",
          "data": {
            "text/plain": [
              "1"
            ]
          },
          "metadata": {
            "tags": []
          },
          "execution_count": 9
        }
      ]
    },
    {
      "metadata": {
        "id": "dKy3pFNdpke2",
        "colab_type": "code",
        "colab": {
          "autoexec": {
            "startup": false,
            "wait_interval": 0
          },
          "base_uri": "https://localhost:8080/",
          "height": 34
        },
        "outputId": "6fc2a0e0-a46d-41c7-88d7-9e0e7a93c581",
        "executionInfo": {
          "status": "ok",
          "timestamp": 1526770295470,
          "user_tz": 240,
          "elapsed": 1779,
          "user": {
            "displayName": "Ivan Gil",
            "photoUrl": "https://lh3.googleusercontent.com/a/default-user=s128",
            "userId": "108918885131467386107"
          }
        }
      },
      "cell_type": "code",
      "source": [
        "for i in range(100):\n",
        "    m1=Matrix.create_totally_positive_matrix(4, interval=[0,1000000], integerEntry=True, symmetric=True)['product']\n",
        "    mc=m1.combined_matrix()\n",
        "    d_mc=mc.get_diagonals()\n",
        "    if (d_mc[1]+d_mc[2]>d_mc[3]+d_mc[0])==False:\n",
        "        print \"No se cumple\"\n",
        "        break\n",
        "print \"Fin\""
      ],
      "execution_count": 10,
      "outputs": [
        {
          "output_type": "stream",
          "text": [
            "Fin\n"
          ],
          "name": "stdout"
        }
      ]
    },
    {
      "metadata": {
        "id": "dJk5M3_-yihG",
        "colab_type": "code",
        "colab": {
          "autoexec": {
            "startup": false,
            "wait_interval": 0
          }
        }
      },
      "cell_type": "code",
      "source": [
        "tnp = Matrix.create_totally_nonpositive_matrix(4, interval=[1,5], integerEntry=True)[\"product\"]"
      ],
      "execution_count": 0,
      "outputs": []
    },
    {
      "metadata": {
        "id": "aQzBkNt3pLc1",
        "colab_type": "code",
        "colab": {
          "autoexec": {
            "startup": false,
            "wait_interval": 0
          },
          "base_uri": "https://localhost:8080/",
          "height": 128
        },
        "outputId": "fc33aa44-3d23-425a-a65c-b997b940680a",
        "executionInfo": {
          "status": "ok",
          "timestamp": 1527348722716,
          "user_tz": 240,
          "elapsed": 422,
          "user": {
            "displayName": "Ivan Gil",
            "photoUrl": "https://lh3.googleusercontent.com/a/default-user=s128",
            "userId": "108918885131467386107"
          }
        }
      },
      "cell_type": "code",
      "source": [
        "tnp"
      ],
      "execution_count": 5,
      "outputs": [
        {
          "output_type": "execute_result",
          "data": {
            "text/plain": [
              "Matrix([\n",
              "[-788/135, -788/45, -788/15, -788/5],\n",
              "[ -788/27,  -752/9,  -692/3,   -612],\n",
              "[-1576/27, -1432/9, -1186/3,   -854],\n",
              "[-3152/27, -2648/9, -1760/3,   -540]])"
            ]
          },
          "metadata": {
            "tags": []
          },
          "execution_count": 5
        }
      ]
    },
    {
      "metadata": {
        "id": "cmT4glHfJMKQ",
        "colab_type": "text"
      },
      "cell_type": "markdown",
      "source": [
        "$\\left[\\begin{matrix}- \\frac{521}{150} & - \\frac{521}{30} & - \\frac{521}{15} & - \\frac{2084}{15}\\\\- \\frac{521}{50} & - \\frac{481}{10} & - \\frac{421}{5} & - \\frac{1504}{5}\\\\- \\frac{521}{10} & - \\frac{457}{2} & -357 & -1116\\\\- \\frac{1042}{5} & -854 & -1096 & -2400\\end{matrix}\\right]$\n"
      ]
    },
    {
      "metadata": {
        "id": "FRLPp3Iy7oVb",
        "colab_type": "code",
        "colab": {
          "autoexec": {
            "startup": false,
            "wait_interval": 0
          }
        }
      },
      "cell_type": "code",
      "source": [
        "d=tnp.get_diagonals()"
      ],
      "execution_count": 0,
      "outputs": []
    },
    {
      "metadata": {
        "id": "M8q81qa2N1Ra",
        "colab_type": "code",
        "colab": {
          "autoexec": {
            "startup": false,
            "wait_interval": 0
          },
          "base_uri": "https://localhost:8080/",
          "height": 34
        },
        "outputId": "3d6356bf-c012-4b8d-9d2b-9dfcbdd182b2",
        "executionInfo": {
          "status": "ok",
          "timestamp": 1526770297169,
          "user_tz": 240,
          "elapsed": 366,
          "user": {
            "displayName": "Ivan Gil",
            "photoUrl": "https://lh3.googleusercontent.com/a/default-user=s128",
            "userId": "108918885131467386107"
          }
        }
      },
      "cell_type": "code",
      "source": [
        "d"
      ],
      "execution_count": 14,
      "outputs": [
        {
          "output_type": "execute_result",
          "data": {
            "text/plain": [
              "[-641/360, -569/24, -2341/8, -3600]"
            ]
          },
          "metadata": {
            "tags": []
          },
          "execution_count": 14
        }
      ]
    },
    {
      "metadata": {
        "id": "FkErvjMTN15E",
        "colab_type": "code",
        "colab": {
          "autoexec": {
            "startup": false,
            "wait_interval": 0
          },
          "base_uri": "https://localhost:8080/",
          "height": 34
        },
        "outputId": "169b1d7f-b2bf-481a-8e6a-033ea436bf90",
        "executionInfo": {
          "status": "ok",
          "timestamp": 1526770297661,
          "user_tz": 240,
          "elapsed": 337,
          "user": {
            "displayName": "Ivan Gil",
            "photoUrl": "https://lh3.googleusercontent.com/a/default-user=s128",
            "userId": "108918885131467386107"
          }
        }
      },
      "cell_type": "code",
      "source": [
        "d[0] + d[2] > d[1]+d[3]-1"
      ],
      "execution_count": 15,
      "outputs": [
        {
          "output_type": "execute_result",
          "data": {
            "text/plain": [
              "True"
            ]
          },
          "metadata": {
            "tags": []
          },
          "execution_count": 15
        }
      ]
    },
    {
      "metadata": {
        "id": "7lcJod5-OtFz",
        "colab_type": "code",
        "colab": {
          "autoexec": {
            "startup": false,
            "wait_interval": 0
          },
          "base_uri": "https://localhost:8080/",
          "height": 51
        },
        "outputId": "e3061bb0-24c4-4446-bb4d-974de64e9e38",
        "executionInfo": {
          "status": "ok",
          "timestamp": 1526770457121,
          "user_tz": 240,
          "elapsed": 12615,
          "user": {
            "displayName": "Ivan Gil",
            "photoUrl": "https://lh3.googleusercontent.com/a/default-user=s128",
            "userId": "108918885131467386107"
          }
        }
      },
      "cell_type": "code",
      "source": [
        "for i in range(100):\n",
        "    m1=Matrix.create_totally_nonpositive_matrix(4, interval=[1,10], integerEntry=True, symmetric=True)['product']\n",
        "    mc=m1.combined_matrix()\n",
        "    d_mc=mc.get_diagonals()\n",
        "    if (d_mc[0] + d_mc[2] >= d_mc[1]+d_mc[3]-1)==False:\n",
        "        print \"No se cumple\"\n",
        "        m1.to_pdf(title=\"Matriz tnp: tnp1\", filename=\"tnp\")\n",
        "        mc.to_pdf(title=\"Matriz combinada de tnp1\", filename=\"matriz_combinada\")\n",
        "        break\n",
        "print \"Fin\""
      ],
      "execution_count": 22,
      "outputs": [
        {
          "output_type": "stream",
          "text": [
            "No se cumple\n",
            "Fin\n"
          ],
          "name": "stdout"
        }
      ]
    },
    {
      "metadata": {
        "id": "8_O3MUnePM0T",
        "colab_type": "code",
        "colab": {
          "autoexec": {
            "startup": false,
            "wait_interval": 0
          },
          "base_uri": "https://localhost:8080/",
          "height": 34
        },
        "outputId": "91c8862a-ddf0-49fa-caaf-353f508b19d5",
        "executionInfo": {
          "status": "ok",
          "timestamp": 1526770345691,
          "user_tz": 240,
          "elapsed": 36400,
          "user": {
            "displayName": "Ivan Gil",
            "photoUrl": "https://lh3.googleusercontent.com/a/default-user=s128",
            "userId": "108918885131467386107"
          }
        }
      },
      "cell_type": "code",
      "source": [
        "for i in range(1000):\n",
        "    m1=Matrix.create_totally_nonpositive_matrix(4, interval=[1,1000000], integerEntry=True, symmetric=True)['product']\n",
        "    mc=m1.combined_matrix()\n",
        "    d_mc=mc.get_diagonals()\n",
        "    if ((d_mc[1] - d_mc[0]+1)*d_mc[3] > -1*d_mc[2])==False:\n",
        "        print \"No se cumple\"\n",
        "        m1.to_pdf(title=\"Matriz tnp: tnp2\", filename=\"tnp2\")\n",
        "        mc.to_pdf(title=\"Matriz combinada de tnp2\", filename=\"matriz_combinada_tnp2\")\n",
        "        break\n",
        "print \"Fin\""
      ],
      "execution_count": 17,
      "outputs": [
        {
          "output_type": "stream",
          "text": [
            "Fin\n"
          ],
          "name": "stdout"
        }
      ]
    },
    {
      "metadata": {
        "id": "NEXmCHIiTc74",
        "colab_type": "code",
        "colab": {
          "autoexec": {
            "startup": false,
            "wait_interval": 0
          },
          "base_uri": "https://localhost:8080/",
          "height": 34
        },
        "outputId": "22db164c-2521-42b9-ecea-08ad344f6823",
        "executionInfo": {
          "status": "ok",
          "timestamp": 1526770378666,
          "user_tz": 240,
          "elapsed": 32946,
          "user": {
            "displayName": "Ivan Gil",
            "photoUrl": "https://lh3.googleusercontent.com/a/default-user=s128",
            "userId": "108918885131467386107"
          }
        }
      },
      "cell_type": "code",
      "source": [
        "for i in range(1000):\n",
        "    m1=Matrix.create_totally_nonpositive_matrix(4, interval=[1,1000], integerEntry=True, symmetric=True)['product']\n",
        "    mc=m1.combined_matrix()\n",
        "    d_mc=mc.get_diagonals()\n",
        "    if (-1 > d_mc[3])==False:\n",
        "        print \"No se cumple\"\n",
        "        m1.to_pdf(title=\"Matriz tnp: tnp1\", filename=\"tnp\")\n",
        "        mc.to_pdf(title=\"Matriz combinada de tnp1\", filename=\"matriz_combinada\")\n",
        "        break\n",
        "print \"Fin\""
      ],
      "execution_count": 18,
      "outputs": [
        {
          "output_type": "stream",
          "text": [
            "Fin\n"
          ],
          "name": "stdout"
        }
      ]
    },
    {
      "metadata": {
        "id": "lnlkSkvShj11",
        "colab_type": "code",
        "colab": {
          "autoexec": {
            "startup": false,
            "wait_interval": 0
          },
          "base_uri": "https://localhost:8080/",
          "height": 34
        },
        "outputId": "ddaffbce-bd95-4437-c0b6-d0f834f7e69a",
        "executionInfo": {
          "status": "ok",
          "timestamp": 1526770432076,
          "user_tz": 240,
          "elapsed": 33414,
          "user": {
            "displayName": "Ivan Gil",
            "photoUrl": "https://lh3.googleusercontent.com/a/default-user=s128",
            "userId": "108918885131467386107"
          }
        }
      },
      "cell_type": "code",
      "source": [
        "for i in range(1000):\n",
        "    m1=Matrix.create_totally_nonpositive_matrix(4, interval=[1,1000], integerEntry=True, symmetric=True)['product']\n",
        "    mc=m1.combined_matrix()\n",
        "    d_mc=mc.get_diagonals()\n",
        "    if (-1 > d_mc[0])==False:\n",
        "        print \"No se cumple\"\n",
        "        m1.to_pdf(title=\"Matriz tnp: tnp1\", filename=\"tnp\")\n",
        "        mc.to_pdf(title=\"Matriz combinada de tnp1\", filename=\"matriz_combinada\")\n",
        "        break\n",
        "print \"Fin\""
      ],
      "execution_count": 20,
      "outputs": [
        {
          "output_type": "stream",
          "text": [
            "Fin\n"
          ],
          "name": "stdout"
        }
      ]
    },
    {
      "metadata": {
        "id": "cNH3Yb4KiV6m",
        "colab_type": "code",
        "colab": {
          "autoexec": {
            "startup": false,
            "wait_interval": 0
          },
          "base_uri": "https://localhost:8080/",
          "height": 34
        },
        "outputId": "910a4cbc-f61d-408d-d604-45c0197a6553",
        "executionInfo": {
          "status": "ok",
          "timestamp": 1526769656883,
          "user_tz": 240,
          "elapsed": 34490,
          "user": {
            "displayName": "Maximo de Jesus Santana de Asis",
            "photoUrl": "https://lh3.googleusercontent.com/a/default-user=s128",
            "userId": "103098075753786124272"
          }
        }
      },
      "cell_type": "code",
      "source": [
        "for i in range(1000):\n",
        "    m1=Matrix.create_totally_nonpositive_matrix(4, interval=[1,1000], integerEntry=True, symmetric=True)['product']\n",
        "    mc=m1.combined_matrix()\n",
        "    d_mc=mc.get_diagonals()\n",
        "    if (-1 > d_mc[2])==False:\n",
        "        print \"No se cumple\"\n",
        "        m1.to_pdf(title=\"Matriz tnp: tnp1\", filename=\"tnp\")\n",
        "        mc.to_pdf(title=\"Matriz combinada de tnp1\", filename=\"matriz_combinada\")\n",
        "        break\n",
        "print \"Fin\""
      ],
      "execution_count": 11,
      "outputs": [
        {
          "output_type": "stream",
          "text": [
            "Fin\n"
          ],
          "name": "stdout"
        }
      ]
    },
    {
      "metadata": {
        "id": "QVILLlz4kXLV",
        "colab_type": "code",
        "colab": {
          "autoexec": {
            "startup": false,
            "wait_interval": 0
          },
          "base_uri": "https://localhost:8080/",
          "height": 34
        },
        "outputId": "8ef3420d-4d70-48e5-dc44-11d54120a7a4",
        "executionInfo": {
          "status": "ok",
          "timestamp": 1527804267050,
          "user_tz": 240,
          "elapsed": 2181,
          "user": {
            "displayName": "Maximo de Jesus Santana de Asis",
            "photoUrl": "https://lh3.googleusercontent.com/a/default-user=s128",
            "userId": "103098075753786124272"
          }
        }
      },
      "cell_type": "code",
      "source": [
        "for i in range(100):\n",
        "    m1=Matrix.create_totally_nonpositive_matrix(3, interval=[1,1000], integerEntry=True, symmetric=True)['product']\n",
        "    mc=m1.combined_matrix()\n",
        "    d_mc=mc.get_diagonals()\n",
        "    if False in [x <= -1 for x in d_mc]:\n",
        "        print \"No se cumple\"\n",
        "        #m1.to_pdf(title=\"Matriz tnp: tnp1\", filename=\"tnp\")\n",
        "        #mc.to_pdf(title=\"Matriz combinada de tnp1\", filename=\"matriz_combinada\")\n",
        "        break\n",
        "print \"Fin\""
      ],
      "execution_count": 6,
      "outputs": [
        {
          "output_type": "stream",
          "text": [
            "Fin\n"
          ],
          "name": "stdout"
        }
      ]
    },
    {
      "metadata": {
        "id": "XbwQquzeJYFK",
        "colab_type": "text"
      },
      "cell_type": "markdown",
      "source": [
        "# Matrices bidiagonales superiores e inferiores con entradas symbolicas"
      ]
    },
    {
      "metadata": {
        "id": "6-7rqAy52B1Q",
        "colab_type": "code",
        "colab": {
          "autoexec": {
            "startup": false,
            "wait_interval": 0
          },
          "base_uri": "https://localhost:8080/",
          "height": 84
        },
        "outputId": "8bd08cc0-3c74-4148-9bbc-baa843902d74",
        "executionInfo": {
          "status": "ok",
          "timestamp": 1527348852447,
          "user_tz": 240,
          "elapsed": 456,
          "user": {
            "displayName": "Ivan Gil",
            "photoUrl": "https://lh3.googleusercontent.com/a/default-user=s128",
            "userId": "108918885131467386107"
          }
        }
      },
      "cell_type": "code",
      "source": [
        "#Lower bidiagonals\n",
        "print \"\\n\".join([\"$\"+sympy.latex(m)+\"$\" for m in Matrix.create_lower_bidiagonal_matrix(4, symbolic=True)])"
      ],
      "execution_count": 11,
      "outputs": [
        {
          "output_type": "stream",
          "text": [
            "$\\left[\\begin{matrix}1 & 0 & 0 & 0\\\\0 & 1 & 0 & 0\\\\0 & 0 & 1 & 0\\\\0 & 0 & a & 1\\end{matrix}\\right]$\n",
            "$\\left[\\begin{matrix}1 & 0 & 0 & 0\\\\0 & 1 & 0 & 0\\\\0 & c & 1 & 0\\\\0 & 0 & b & 1\\end{matrix}\\right]$\n",
            "$\\left[\\begin{matrix}1 & 0 & 0 & 0\\\\f & 1 & 0 & 0\\\\0 & e & 1 & 0\\\\0 & 0 & d & 1\\end{matrix}\\right]$\n"
          ],
          "name": "stdout"
        }
      ]
    },
    {
      "metadata": {
        "id": "aBmE3tGiFFZs",
        "colab_type": "text"
      },
      "cell_type": "markdown",
      "source": [
        "$\\left[\\begin{matrix}1 & 0 & 0 & 0\\\\0 & 1 & 0 & 0\\\\0 & 0 & 1 & 0\\\\0 & 0 & a & 1\\end{matrix}\\right]$\n",
        "$\\left[\\begin{matrix}1 & 0 & 0 & 0\\\\0 & 1 & 0 & 0\\\\0 & c & 1 & 0\\\\0 & 0 & b & 1\\end{matrix}\\right]$\n",
        "$\\left[\\begin{matrix}1 & 0 & 0 & 0\\\\f & 1 & 0 & 0\\\\0 & e & 1 & 0\\\\0 & 0 & d & 1\\end{matrix}\\right]$"
      ]
    },
    {
      "metadata": {
        "id": "U8OMDdeqFDWd",
        "colab_type": "code",
        "colab": {
          "autoexec": {
            "startup": false,
            "wait_interval": 0
          },
          "base_uri": "https://localhost:8080/",
          "height": 40
        },
        "outputId": "19f11f4a-88f4-45bd-d886-f37060271a47",
        "executionInfo": {
          "status": "ok",
          "timestamp": 1527348796751,
          "user_tz": 240,
          "elapsed": 451,
          "user": {
            "displayName": "Ivan Gil",
            "photoUrl": "https://lh3.googleusercontent.com/a/default-user=s128",
            "userId": "108918885131467386107"
          }
        }
      },
      "cell_type": "code",
      "source": [
        "#Diagonal\n",
        "print \"$\"+sympy.latex(Matrix.create_diagonal_matrix(4, symbolic=True))+\"$\""
      ],
      "execution_count": 8,
      "outputs": [
        {
          "output_type": "stream",
          "text": [
            "$\\left[\\begin{matrix}g & 0 & 0 & 0\\\\0 & h & 0 & 0\\\\0 & 0 & i & 0\\\\0 & 0 & 0 & j\\end{matrix}\\right]$\n"
          ],
          "name": "stdout"
        }
      ]
    },
    {
      "metadata": {
        "id": "hVfdLVyVFS9A",
        "colab_type": "text"
      },
      "cell_type": "markdown",
      "source": [
        "$\\left[\\begin{matrix}g & 0 & 0 & 0\\\\0 & h & 0 & 0\\\\0 & 0 & i & 0\\\\0 & 0 & 0 & j\\end{matrix}\\right]$"
      ]
    },
    {
      "metadata": {
        "id": "-JJEnUAGFRr1",
        "colab_type": "code",
        "colab": {
          "autoexec": {
            "startup": false,
            "wait_interval": 0
          },
          "base_uri": "https://localhost:8080/",
          "height": 84
        },
        "outputId": "d8a9de07-5bb4-44f8-b86a-09d70d19aee0",
        "executionInfo": {
          "status": "ok",
          "timestamp": 1527348849526,
          "user_tz": 240,
          "elapsed": 661,
          "user": {
            "displayName": "Ivan Gil",
            "photoUrl": "https://lh3.googleusercontent.com/a/default-user=s128",
            "userId": "108918885131467386107"
          }
        }
      },
      "cell_type": "code",
      "source": [
        "#Upper bidiagonals\n",
        "print \"\\n\".join([\"$\"+sympy.latex(m)+\"$\" for m in Matrix.create_upper_bidiagonal_matrix(4, symbolic=True)])"
      ],
      "execution_count": 10,
      "outputs": [
        {
          "output_type": "stream",
          "text": [
            "$\\left[\\begin{matrix}1 & k & 0 & 0\\\\0 & 1 & l & 0\\\\0 & 0 & 1 & m\\\\0 & 0 & 0 & 1\\end{matrix}\\right]$\n",
            "$\\left[\\begin{matrix}1 & 0 & 0 & 0\\\\0 & 1 & n & 0\\\\0 & 0 & 1 & o\\\\0 & 0 & 0 & 1\\end{matrix}\\right]$\n",
            "$\\left[\\begin{matrix}1 & 0 & 0 & 0\\\\0 & 1 & 0 & 0\\\\0 & 0 & 1 & p\\\\0 & 0 & 0 & 1\\end{matrix}\\right]$\n"
          ],
          "name": "stdout"
        }
      ]
    },
    {
      "metadata": {
        "id": "HzBmT5p-FZRz",
        "colab_type": "text"
      },
      "cell_type": "markdown",
      "source": [
        "$\\left[\\begin{matrix}1 & k & 0 & 0\\\\0 & 1 & l & 0\\\\0 & 0 & 1 & m\\\\0 & 0 & 0 & 1\\end{matrix}\\right]$\n",
        "$\\left[\\begin{matrix}1 & 0 & 0 & 0\\\\0 & 1 & n & 0\\\\0 & 0 & 1 & o\\\\0 & 0 & 0 & 1\\end{matrix}\\right]$\n",
        "$\\left[\\begin{matrix}1 & 0 & 0 & 0\\\\0 & 1 & 0 & 0\\\\0 & 0 & 1 & p\\\\0 & 0 & 0 & 1\\end{matrix}\\right]$"
      ]
    },
    {
      "metadata": {
        "id": "7WcsznTzFXol",
        "colab_type": "code",
        "colab": {
          "autoexec": {
            "startup": false,
            "wait_interval": 0
          }
        }
      },
      "cell_type": "code",
      "source": [
        "TP = Matrix.create_totally_positive_matrix(4,symbolic=True)[\"product\"]"
      ],
      "execution_count": 0,
      "outputs": []
    },
    {
      "metadata": {
        "id": "cPc0Ki-EFoeu",
        "colab_type": "code",
        "colab": {
          "autoexec": {
            "startup": false,
            "wait_interval": 0
          },
          "base_uri": "https://localhost:8080/",
          "height": 100
        },
        "outputId": "84447a3e-c41c-4314-9471-dda4b4cb84c1",
        "executionInfo": {
          "status": "ok",
          "timestamp": 1527352092323,
          "user_tz": 240,
          "elapsed": 393,
          "user": {
            "displayName": "Ivan Gil",
            "photoUrl": "https://lh3.googleusercontent.com/a/default-user=s128",
            "userId": "108918885131467386107"
          }
        }
      },
      "cell_type": "code",
      "source": [
        "print \"$\" + sympy.latex(TP) + \"$\""
      ],
      "execution_count": 22,
      "outputs": [
        {
          "output_type": "stream",
          "text": [
            "$\\left[\\begin{matrix}g & g k & g k n & g k n p\\\\f g & f g k + h & h l + n \\left(f g k + h\\right) & h l o + p \\left(h l + n \\left(f g k + h\\right)\\right)\\\\c f g & c f g k + h \\left(c + e\\right) & h l \\left(c + e\\right) + i + n \\left(c f g k + h \\left(c + e\\right)\\right) & i m + o \\left(h l \\left(c + e\\right) + i\\right) + p \\left(h l \\left(c + e\\right) + i + n \\left(c f g k + h \\left(c + e\\right)\\right)\\right)\\\\a c f g & a c f g k + h \\left(a c + e \\left(a + b\\right)\\right) & h l \\left(a c + e \\left(a + b\\right)\\right) + i \\left(a + b + d\\right) + n \\left(a c f g k + h \\left(a c + e \\left(a + b\\right)\\right)\\right) & i m \\left(a + b + d\\right) + j + o \\left(h l \\left(a c + e \\left(a + b\\right)\\right) + i \\left(a + b + d\\right)\\right) + p \\left(h l \\left(a c + e \\left(a + b\\right)\\right) + i \\left(a + b + d\\right) + n \\left(a c f g k + h \\left(a c + e \\left(a + b\\right)\\right)\\right)\\right)\\end{matrix}\\right]$\n"
          ],
          "name": "stdout"
        }
      ]
    },
    {
      "metadata": {
        "id": "y9aG9-5fF10s",
        "colab_type": "text"
      },
      "cell_type": "markdown",
      "source": [
        "$\\left[\\begin{matrix}g & g k & g k n & g k n p\\\\f g & f g k + h & h l + n \\left(f g k + h\\right) & h l o + p \\left(h l + n \\left(f g k + h\\right)\\right)\\\\c f g & c f g k + h \\left(c + e\\right) & h l \\left(c + e\\right) + i + n \\left(c f g k + h \\left(c + e\\right)\\right) & i m + o \\left(h l \\left(c + e\\right) + i\\right) + p \\left(h l \\left(c + e\\right) + i + n \\left(c f g k + h \\left(c + e\\right)\\right)\\right)\\\\a c f g & a c f g k + h \\left(a c + e \\left(a + b\\right)\\right) & h l \\left(a c + e \\left(a + b\\right)\\right) + i \\left(a + b + d\\right) + n \\left(a c f g k + h \\left(a c + e \\left(a + b\\right)\\right)\\right) & i m \\left(a + b + d\\right) + j + o \\left(h l \\left(a c + e \\left(a + b\\right)\\right) + i \\left(a + b + d\\right)\\right) + p \\left(h l \\left(a c + e \\left(a + b\\right)\\right) + i \\left(a + b + d\\right) + n \\left(a c f g k + h \\left(a c + e \\left(a + b\\right)\\right)\\right)\\right)\\end{matrix}\\right]$"
      ]
    },
    {
      "metadata": {
        "id": "1BX1--I4FpU2",
        "colab_type": "code",
        "colab": {
          "autoexec": {
            "startup": false,
            "wait_interval": 0
          }
        }
      },
      "cell_type": "code",
      "source": [
        "TP_inv = TP.inv().expand()"
      ],
      "execution_count": 0,
      "outputs": []
    },
    {
      "metadata": {
        "id": "1ACezY_ycckR",
        "colab_type": "code",
        "colab": {
          "autoexec": {
            "startup": false,
            "wait_interval": 0
          }
        }
      },
      "cell_type": "code",
      "source": [
        "TP_inv_diag = TP_inv.get_diagonals()"
      ],
      "execution_count": 0,
      "outputs": []
    },
    {
      "metadata": {
        "id": "Eq11nGupbzkd",
        "colab_type": "code",
        "colab": {
          "autoexec": {
            "startup": false,
            "wait_interval": 0
          },
          "base_uri": "https://localhost:8080/",
          "height": 105
        },
        "outputId": "2ee61bfa-4aab-4354-eb1a-23ca491577c5",
        "executionInfo": {
          "status": "ok",
          "timestamp": 1527355120900,
          "user_tz": 240,
          "elapsed": 355,
          "user": {
            "displayName": "Maximo de Jesus Santana de Asis",
            "photoUrl": "https://lh3.googleusercontent.com/a/default-user=s128",
            "userId": "103098075753786124272"
          }
        }
      },
      "cell_type": "code",
      "source": [
        "print \"\\n\".join([\"$\"+sympy.latex(d) + \"$\" for d in TP_inv_diag])"
      ],
      "execution_count": 13,
      "outputs": [
        {
          "output_type": "stream",
          "text": [
            "$\\frac{d e}{j} f k l m + \\frac{e f}{i} k l + \\frac{f k}{h} + \\frac{1}{g}$\n",
            "$\\frac{b c}{j} l m + \\frac{b c}{j} m n + \\frac{b c}{j} n o + \\frac{c d}{j} l m + \\frac{c d}{j} m n + \\frac{c d}{j} n o + \\frac{c l}{i} + \\frac{c n}{i} + \\frac{d e}{j} l m + \\frac{d e}{j} m n + \\frac{d e}{j} n o + \\frac{e l}{i} + \\frac{e n}{i} + \\frac{1}{h}$\n",
            "$\\frac{a m}{j} + \\frac{a o}{j} + \\frac{a p}{j} + \\frac{b m}{j} + \\frac{b o}{j} + \\frac{b p}{j} + \\frac{d m}{j} + \\frac{d o}{j} + \\frac{d p}{j} + \\frac{1}{i}$\n",
            "$\\frac{1}{j}$\n"
          ],
          "name": "stdout"
        }
      ]
    },
    {
      "metadata": {
        "id": "NI0-2vBNdd4W",
        "colab_type": "text"
      },
      "cell_type": "markdown",
      "source": [
        "$\\frac{d e}{j} f k l m + \\frac{e f}{i} k l + \\frac{f k}{h} + \\frac{1}{g}$\n",
        "\n",
        "$\\frac{b c}{j} l m + \\frac{b c}{j} m n + \\frac{b c}{j} n o + \\frac{c d}{j} l m + \\frac{c d}{j} m n + \\frac{c d}{j} n o + \\frac{c l}{i} + \\frac{c n}{i} + \\frac{d e}{j} l m + \\frac{d e}{j} m n + \\frac{d e}{j} n o + \\frac{e l}{i} + \\frac{e n}{i} + \\frac{1}{h}$\n",
        "\n",
        "$\\frac{a m}{j} + \\frac{a o}{j} + \\frac{a p}{j} + \\frac{b m}{j} + \\frac{b o}{j} + \\frac{b p}{j} + \\frac{d m}{j} + \\frac{d o}{j} + \\frac{d p}{j} + \\frac{1}{i}$\n",
        "\n",
        "$\\frac{1}{j}$"
      ]
    },
    {
      "metadata": {
        "id": "YWLz5R-Tg0x2",
        "colab_type": "text"
      },
      "cell_type": "markdown",
      "source": [
        "# Matriz totalmente no positiva con entradas simbolicas"
      ]
    },
    {
      "metadata": {
        "id": "iQPfNNeocBG8",
        "colab_type": "code",
        "colab": {
          "autoexec": {
            "startup": false,
            "wait_interval": 0
          },
          "base_uri": "https://localhost:8080/",
          "height": 69
        },
        "outputId": "f537d88b-0f8f-4efd-bcc5-b772e58c2bc0",
        "executionInfo": {
          "status": "ok",
          "timestamp": 1527356065726,
          "user_tz": 240,
          "elapsed": 396,
          "user": {
            "displayName": "Ivan Gil",
            "photoUrl": "https://lh3.googleusercontent.com/a/default-user=s128",
            "userId": "108918885131467386107"
          }
        }
      },
      "cell_type": "code",
      "source": [
        "#Lower bidiagonals\n",
        "print \"\\n\".join([\"$\"+sympy.latex(m)+\"$\" for m in Matrix.create_lower_bidiagonal_matrix(4, symbolic=True)])"
      ],
      "execution_count": 25,
      "outputs": [
        {
          "output_type": "stream",
          "text": [
            "$\\left[\\begin{matrix}1 & 0 & 0 & 0\\\\0 & 1 & 0 & 0\\\\0 & 0 & 1 & 0\\\\0 & 0 & a & 1\\end{matrix}\\right]$\n",
            "$\\left[\\begin{matrix}1 & 0 & 0 & 0\\\\0 & 1 & 0 & 0\\\\0 & c & 1 & 0\\\\0 & 0 & b & 1\\end{matrix}\\right]$\n",
            "$\\left[\\begin{matrix}1 & 0 & 0 & 0\\\\f & 1 & 0 & 0\\\\0 & e & 1 & 0\\\\0 & 0 & d & 1\\end{matrix}\\right]$\n"
          ],
          "name": "stdout"
        }
      ]
    },
    {
      "metadata": {
        "id": "sYGP5RJShB-P",
        "colab_type": "text"
      },
      "cell_type": "markdown",
      "source": [
        "$\\left[\\begin{matrix}1 & 0 & 0 & 0\\\\0 & 1 & 0 & 0\\\\0 & 0 & 1 & 0\\\\0 & 0 & a & 1\\end{matrix}\\right]$\n",
        "$\\left[\\begin{matrix}1 & 0 & 0 & 0\\\\0 & 1 & 0 & 0\\\\0 & c & 1 & 0\\\\0 & 0 & b & 1\\end{matrix}\\right]$\n",
        "$\\left[\\begin{matrix}1 & 0 & 0 & 0\\\\f & 1 & 0 & 0\\\\0 & e & 1 & 0\\\\0 & 0 & d & 1\\end{matrix}\\right]$"
      ]
    },
    {
      "metadata": {
        "id": "zYfwEAedhAVX",
        "colab_type": "code",
        "colab": {
          "autoexec": {
            "startup": false,
            "wait_interval": 0
          },
          "base_uri": "https://localhost:8080/",
          "height": 34
        },
        "outputId": "65f6cab8-8f4a-4383-fc58-a09620334c1e",
        "executionInfo": {
          "status": "ok",
          "timestamp": 1527356084993,
          "user_tz": 240,
          "elapsed": 420,
          "user": {
            "displayName": "Ivan Gil",
            "photoUrl": "https://lh3.googleusercontent.com/a/default-user=s128",
            "userId": "108918885131467386107"
          }
        }
      },
      "cell_type": "code",
      "source": [
        "#Diagonal\n",
        "print \"$\"+sympy.latex(Matrix.create_diagonal_matrix(4, symbolic=True))+\"$\""
      ],
      "execution_count": 26,
      "outputs": [
        {
          "output_type": "stream",
          "text": [
            "$\\left[\\begin{matrix}g & 0 & 0 & 0\\\\0 & h & 0 & 0\\\\0 & 0 & i & 0\\\\0 & 0 & 0 & j\\end{matrix}\\right]$\n"
          ],
          "name": "stdout"
        }
      ]
    },
    {
      "metadata": {
        "id": "RS_Qm2jbhH0a",
        "colab_type": "text"
      },
      "cell_type": "markdown",
      "source": [
        "$\\left[\\begin{matrix}g & 0 & 0 & 0\\\\0 & h & 0 & 0\\\\0 & 0 & i & 0\\\\0 & 0 & 0 & j\\end{matrix}\\right]$"
      ]
    },
    {
      "metadata": {
        "id": "dECiwOFshFAz",
        "colab_type": "code",
        "colab": {
          "autoexec": {
            "startup": false,
            "wait_interval": 0
          },
          "base_uri": "https://localhost:8080/",
          "height": 69
        },
        "outputId": "42a9556e-6f75-4804-e557-124d58b2fc74",
        "executionInfo": {
          "status": "ok",
          "timestamp": 1527356125235,
          "user_tz": 240,
          "elapsed": 422,
          "user": {
            "displayName": "Ivan Gil",
            "photoUrl": "https://lh3.googleusercontent.com/a/default-user=s128",
            "userId": "108918885131467386107"
          }
        }
      },
      "cell_type": "code",
      "source": [
        "#Upper bidiagonals\n",
        "print \"\\n\".join([\"$\"+sympy.latex(m)+\"$\" for m in Matrix.create_upper_bidiagonal_matrix(4, symbolic=True)])"
      ],
      "execution_count": 27,
      "outputs": [
        {
          "output_type": "stream",
          "text": [
            "$\\left[\\begin{matrix}1 & k & 0 & 0\\\\0 & 1 & l & 0\\\\0 & 0 & 1 & m\\\\0 & 0 & 0 & 1\\end{matrix}\\right]$\n",
            "$\\left[\\begin{matrix}1 & 0 & 0 & 0\\\\0 & 1 & n & 0\\\\0 & 0 & 1 & o\\\\0 & 0 & 0 & 1\\end{matrix}\\right]$\n",
            "$\\left[\\begin{matrix}1 & 0 & 0 & 0\\\\0 & 1 & 0 & 0\\\\0 & 0 & 1 & p\\\\0 & 0 & 0 & 1\\end{matrix}\\right]$\n"
          ],
          "name": "stdout"
        }
      ]
    },
    {
      "metadata": {
        "id": "AxGhQL1EhQTs",
        "colab_type": "text"
      },
      "cell_type": "markdown",
      "source": [
        "$\\left[\\begin{matrix}1 & k & 0 & 0\\\\0 & 1 & l & 0\\\\0 & 0 & 1 & m\\\\0 & 0 & 0 & 1\\end{matrix}\\right]$\n",
        "$\\left[\\begin{matrix}1 & 0 & 0 & 0\\\\0 & 1 & n & 0\\\\0 & 0 & 1 & o\\\\0 & 0 & 0 & 1\\end{matrix}\\right]$\n",
        "$\\left[\\begin{matrix}1 & 0 & 0 & 0\\\\0 & 1 & 0 & 0\\\\0 & 0 & 1 & p\\\\0 & 0 & 0 & 1\\end{matrix}\\right]$"
      ]
    },
    {
      "metadata": {
        "id": "KrIasJv4hOz6",
        "colab_type": "code",
        "colab": {
          "autoexec": {
            "startup": false,
            "wait_interval": 0
          }
        }
      },
      "cell_type": "code",
      "source": [
        "tnp = Matrix.create_totally_nonpositive_matrix(4,symbolic=True)[\"product\"]"
      ],
      "execution_count": 0,
      "outputs": []
    },
    {
      "metadata": {
        "id": "mhyPH32XinJQ",
        "colab_type": "code",
        "colab": {
          "autoexec": {
            "startup": false,
            "wait_interval": 0
          }
        }
      },
      "cell_type": "code",
      "source": [
        "tnp_inv = tnp.inv()"
      ],
      "execution_count": 0,
      "outputs": []
    },
    {
      "metadata": {
        "id": "ePnsCK5xhU-q",
        "colab_type": "code",
        "colab": {
          "autoexec": {
            "startup": false,
            "wait_interval": 0
          }
        }
      },
      "cell_type": "code",
      "source": [
        "tnp_inv_diag = tnp_inv.get_diagonals()\n",
        "print \"\\n\".join([\"$\"+sympy.latex(d) + \"$\" for d in tnp_inv_diag])"
      ],
      "execution_count": 0,
      "outputs": []
    },
    {
      "metadata": {
        "id": "TLkFvKvOiIoI",
        "colab_type": "code",
        "colab": {
          "autoexec": {
            "startup": false,
            "wait_interval": 0
          },
          "base_uri": "https://localhost:8080/",
          "height": 144
        },
        "outputId": "9062ad22-5151-4009-f4ef-5ad2ef7caf27",
        "executionInfo": {
          "status": "ok",
          "timestamp": 1527389565188,
          "user_tz": 240,
          "elapsed": 1188,
          "user": {
            "displayName": "Ivan Gil",
            "photoUrl": "https://lh3.googleusercontent.com/a/default-user=s128",
            "userId": "108918885131467386107"
          }
        }
      },
      "cell_type": "code",
      "source": [
        "tnp"
      ],
      "execution_count": 5,
      "outputs": [
        {
          "output_type": "execute_result",
          "data": {
            "text/plain": [
              "Matrix([\n",
              "[        -1 - (a*c*h*l*o + a*c*h*l*p + a*c*h*n*p + a*e*h*l*o + a*e*h*l*p + a*e*h*n*p + a*i*m + a*i*o + a*i*p + b*e*h*l*o + b*e*h*l*p + b*e*h*n*p + b*i*m + b*i*o + b*i*p + j)/(a*c*f*k*n*p - i*m - i*o - i*p),                             k*(-1 - (a*c*h*l*o + a*c*h*l*p + a*c*h*n*p + a*e*h*l*o + a*e*h*l*p + a*e*h*n*p + a*i*m + a*i*o + a*i*p + b*e*h*l*o + b*e*h*l*p + b*e*h*n*p + b*i*m + b*i*o + b*i*p + j)/(a*c*f*k*n*p - i*m - i*o - i*p)),                                                     k*n*(-1 - (a*c*h*l*o + a*c*h*l*p + a*c*h*n*p + a*e*h*l*o + a*e*h*l*p + a*e*h*n*p + a*i*m + a*i*o + a*i*p + b*e*h*l*o + b*e*h*l*p + b*e*h*n*p + b*i*m + b*i*o + b*i*p + j)/(a*c*f*k*n*p - i*m - i*o - i*p)),                                                                               k*n*p*(-1 - (a*c*h*l*o + a*c*h*l*p + a*c*h*n*p + a*e*h*l*o + a*e*h*l*p + a*e*h*n*p + a*i*m + a*i*o + a*i*p + b*e*h*l*o + b*e*h*l*p + b*e*h*n*p + b*i*m + b*i*o + b*i*p + j)/(a*c*f*k*n*p - i*m - i*o - i*p))],\n",
              "[    f*(-1 - (a*c*h*l*o + a*c*h*l*p + a*c*h*n*p + a*e*h*l*o + a*e*h*l*p + a*e*h*n*p + a*i*m + a*i*o + a*i*p + b*e*h*l*o + b*e*h*l*p + b*e*h*n*p + b*i*m + b*i*o + b*i*p + j)/(a*c*f*k*n*p - i*m - i*o - i*p)),                       f*k*(-1 - (a*c*h*l*o + a*c*h*l*p + a*c*h*n*p + a*e*h*l*o + a*e*h*l*p + a*e*h*n*p + a*i*m + a*i*o + a*i*p + b*e*h*l*o + b*e*h*l*p + b*e*h*n*p + b*i*m + b*i*o + b*i*p + j)/(a*c*f*k*n*p - i*m - i*o - i*p)) + h,                                       f*k*n*(-1 - (a*c*h*l*o + a*c*h*l*p + a*c*h*n*p + a*e*h*l*o + a*e*h*l*p + a*e*h*n*p + a*i*m + a*i*o + a*i*p + b*e*h*l*o + b*e*h*l*p + b*e*h*n*p + b*i*m + b*i*o + b*i*p + j)/(a*c*f*k*n*p - i*m - i*o - i*p)) + h*(l + n),                                                       f*k*n*p*(-1 - (a*c*h*l*o + a*c*h*l*p + a*c*h*n*p + a*e*h*l*o + a*e*h*l*p + a*e*h*n*p + a*i*m + a*i*o + a*i*p + b*e*h*l*o + b*e*h*l*p + b*e*h*n*p + b*i*m + b*i*o + b*i*p + j)/(a*c*f*k*n*p - i*m - i*o - i*p)) + h*(l*o + p*(l + n))],\n",
              "[  c*f*(-1 - (a*c*h*l*o + a*c*h*l*p + a*c*h*n*p + a*e*h*l*o + a*e*h*l*p + a*e*h*n*p + a*i*m + a*i*o + a*i*p + b*e*h*l*o + b*e*h*l*p + b*e*h*n*p + b*i*m + b*i*o + b*i*p + j)/(a*c*f*k*n*p - i*m - i*o - i*p)),             c*f*k*(-1 - (a*c*h*l*o + a*c*h*l*p + a*c*h*n*p + a*e*h*l*o + a*e*h*l*p + a*e*h*n*p + a*i*m + a*i*o + a*i*p + b*e*h*l*o + b*e*h*l*p + b*e*h*n*p + b*i*m + b*i*o + b*i*p + j)/(a*c*f*k*n*p - i*m - i*o - i*p)) + h*(c + e),                         c*f*k*n*(-1 - (a*c*h*l*o + a*c*h*l*p + a*c*h*n*p + a*e*h*l*o + a*e*h*l*p + a*e*h*n*p + a*i*m + a*i*o + a*i*p + b*e*h*l*o + b*e*h*l*p + b*e*h*n*p + b*i*m + b*i*o + b*i*p + j)/(a*c*f*k*n*p - i*m - i*o - i*p)) + h*(c + e)*(l + n) + i,                             c*f*k*n*p*(-1 - (a*c*h*l*o + a*c*h*l*p + a*c*h*n*p + a*e*h*l*o + a*e*h*l*p + a*e*h*n*p + a*i*m + a*i*o + a*i*p + b*e*h*l*o + b*e*h*l*p + b*e*h*n*p + b*i*m + b*i*o + b*i*p + j)/(a*c*f*k*n*p - i*m - i*o - i*p)) + h*(c + e)*(l*o + p*(l + n)) + i*(m + o + p)],\n",
              "[a*c*f*(-1 - (a*c*h*l*o + a*c*h*l*p + a*c*h*n*p + a*e*h*l*o + a*e*h*l*p + a*e*h*n*p + a*i*m + a*i*o + a*i*p + b*e*h*l*o + b*e*h*l*p + b*e*h*n*p + b*i*m + b*i*o + b*i*p + j)/(a*c*f*k*n*p - i*m - i*o - i*p)), a*c*f*k*(-1 - (a*c*h*l*o + a*c*h*l*p + a*c*h*n*p + a*e*h*l*o + a*e*h*l*p + a*e*h*n*p + a*i*m + a*i*o + a*i*p + b*e*h*l*o + b*e*h*l*p + b*e*h*n*p + b*i*m + b*i*o + b*i*p + j)/(a*c*f*k*n*p - i*m - i*o - i*p)) + h*(a*c + e*(a + b)), a*c*f*k*n*(-1 - (a*c*h*l*o + a*c*h*l*p + a*c*h*n*p + a*e*h*l*o + a*e*h*l*p + a*e*h*n*p + a*i*m + a*i*o + a*i*p + b*e*h*l*o + b*e*h*l*p + b*e*h*n*p + b*i*m + b*i*o + b*i*p + j)/(a*c*f*k*n*p - i*m - i*o - i*p)) + h*(l + n)*(a*c + e*(a + b)) + i*(a + b + d), a*c*f*k*n*p*(-1 - (a*c*h*l*o + a*c*h*l*p + a*c*h*n*p + a*e*h*l*o + a*e*h*l*p + a*e*h*n*p + a*i*m + a*i*o + a*i*p + b*e*h*l*o + b*e*h*l*p + b*e*h*n*p + b*i*m + b*i*o + b*i*p + j)/(a*c*f*k*n*p - i*m - i*o - i*p)) + h*(a*c + e*(a + b))*(l*o + p*(l + n)) + i*(a + b + d)*(m + o + p) + j]])"
            ]
          },
          "metadata": {
            "tags": []
          },
          "execution_count": 5
        }
      ]
    },
    {
      "metadata": {
        "id": "mP8NeH7kTKDl",
        "colab_type": "text"
      },
      "cell_type": "markdown",
      "source": [
        "# Submatrices"
      ]
    },
    {
      "metadata": {
        "id": "lY0PYu06bEjv",
        "colab_type": "code",
        "colab": {
          "autoexec": {
            "startup": false,
            "wait_interval": 0
          }
        }
      },
      "cell_type": "code",
      "source": [
        "m = Matrix.create_symmetric_matrix(4)"
      ],
      "execution_count": 0,
      "outputs": []
    },
    {
      "metadata": {
        "id": "-HMEuLxQVjUX",
        "colab_type": "code",
        "colab": {
          "autoexec": {
            "startup": false,
            "wait_interval": 0
          },
          "base_uri": "https://localhost:8080/",
          "height": 1258
        },
        "outputId": "d5053015-dc42-40b6-849d-39519a22b3d0",
        "executionInfo": {
          "status": "ok",
          "timestamp": 1527961046345,
          "user_tz": 240,
          "elapsed": 501,
          "user": {
            "displayName": "Ivan Gil",
            "photoUrl": "https://lh3.googleusercontent.com/a/default-user=s128",
            "userId": "108918885131467386107"
          }
        }
      },
      "cell_type": "code",
      "source": [
        "m.get_submatrices(rows=2, cols=2)"
      ],
      "execution_count": 19,
      "outputs": [
        {
          "output_type": "execute_result",
          "data": {
            "text/plain": [
              "[Matrix([\n",
              " [a11, a12],\n",
              " [a12, a22]]), Matrix([\n",
              " [a11, a13],\n",
              " [a12, a23]]), Matrix([\n",
              " [a11, a14],\n",
              " [a12, a24]]), Matrix([\n",
              " [a12, a13],\n",
              " [a22, a23]]), Matrix([\n",
              " [a12, a14],\n",
              " [a22, a24]]), Matrix([\n",
              " [a13, a14],\n",
              " [a23, a24]]), Matrix([\n",
              " [a11, a12],\n",
              " [a13, a23]]), Matrix([\n",
              " [a11, a13],\n",
              " [a13, a33]]), Matrix([\n",
              " [a11, a14],\n",
              " [a13, a34]]), Matrix([\n",
              " [a12, a13],\n",
              " [a23, a33]]), Matrix([\n",
              " [a12, a14],\n",
              " [a23, a34]]), Matrix([\n",
              " [a13, a14],\n",
              " [a33, a34]]), Matrix([\n",
              " [a11, a12],\n",
              " [a14, a24]]), Matrix([\n",
              " [a11, a13],\n",
              " [a14, a34]]), Matrix([\n",
              " [a11, a14],\n",
              " [a14, a44]]), Matrix([\n",
              " [a12, a13],\n",
              " [a24, a34]]), Matrix([\n",
              " [a12, a14],\n",
              " [a24, a44]]), Matrix([\n",
              " [a13, a14],\n",
              " [a34, a44]]), Matrix([\n",
              " [a12, a22],\n",
              " [a13, a23]]), Matrix([\n",
              " [a12, a23],\n",
              " [a13, a33]]), Matrix([\n",
              " [a12, a24],\n",
              " [a13, a34]]), Matrix([\n",
              " [a22, a23],\n",
              " [a23, a33]]), Matrix([\n",
              " [a22, a24],\n",
              " [a23, a34]]), Matrix([\n",
              " [a23, a24],\n",
              " [a33, a34]]), Matrix([\n",
              " [a12, a22],\n",
              " [a14, a24]]), Matrix([\n",
              " [a12, a23],\n",
              " [a14, a34]]), Matrix([\n",
              " [a12, a24],\n",
              " [a14, a44]]), Matrix([\n",
              " [a22, a23],\n",
              " [a24, a34]]), Matrix([\n",
              " [a22, a24],\n",
              " [a24, a44]]), Matrix([\n",
              " [a23, a24],\n",
              " [a34, a44]]), Matrix([\n",
              " [a13, a23],\n",
              " [a14, a24]]), Matrix([\n",
              " [a13, a33],\n",
              " [a14, a34]]), Matrix([\n",
              " [a13, a34],\n",
              " [a14, a44]]), Matrix([\n",
              " [a23, a33],\n",
              " [a24, a34]]), Matrix([\n",
              " [a23, a34],\n",
              " [a24, a44]]), Matrix([\n",
              " [a33, a34],\n",
              " [a34, a44]])]"
            ]
          },
          "metadata": {
            "tags": []
          },
          "execution_count": 19
        }
      ]
    },
    {
      "metadata": {
        "id": "PX1LW8QhSTX3",
        "colab_type": "code",
        "colab": {
          "autoexec": {
            "startup": false,
            "wait_interval": 0
          }
        }
      },
      "cell_type": "code",
      "source": [
        "sm2 = m.get_submatrices(rows=2, cols=2, rows_and_cols_consecutive=True, row_initials=True)"
      ],
      "execution_count": 0,
      "outputs": []
    },
    {
      "metadata": {
        "id": "UeU4FLtySWW3",
        "colab_type": "code",
        "colab": {
          "autoexec": {
            "startup": false,
            "wait_interval": 0
          },
          "base_uri": "https://localhost:8080/",
          "height": 136
        },
        "outputId": "64f11233-1f85-4b5d-da5f-2f764e525265",
        "executionInfo": {
          "status": "ok",
          "timestamp": 1527961049393,
          "user_tz": 240,
          "elapsed": 526,
          "user": {
            "displayName": "Ivan Gil",
            "photoUrl": "https://lh3.googleusercontent.com/a/default-user=s128",
            "userId": "108918885131467386107"
          }
        }
      },
      "cell_type": "code",
      "source": [
        "sm2"
      ],
      "execution_count": 21,
      "outputs": [
        {
          "output_type": "execute_result",
          "data": {
            "text/plain": [
              "[Matrix([\n",
              " [a11, a12],\n",
              " [a12, a22]]), Matrix([\n",
              " [a12, a13],\n",
              " [a22, a23]]), Matrix([\n",
              " [a13, a14],\n",
              " [a23, a24]])]"
            ]
          },
          "metadata": {
            "tags": []
          },
          "execution_count": 21
        }
      ]
    },
    {
      "metadata": {
        "id": "yLnepSPeTZEw",
        "colab_type": "code",
        "colab": {
          "autoexec": {
            "startup": false,
            "wait_interval": 0
          },
          "base_uri": "https://localhost:8080/",
          "height": 68
        },
        "outputId": "4a25e87b-081e-4c62-d819-380655296fc3",
        "executionInfo": {
          "status": "ok",
          "timestamp": 1527961050914,
          "user_tz": 240,
          "elapsed": 757,
          "user": {
            "displayName": "Ivan Gil",
            "photoUrl": "https://lh3.googleusercontent.com/a/default-user=s128",
            "userId": "108918885131467386107"
          }
        }
      },
      "cell_type": "code",
      "source": [
        "print \"\\n\".join([\"$\" + sympy.latex(x) + \"$\" for x in sm2])"
      ],
      "execution_count": 22,
      "outputs": [
        {
          "output_type": "stream",
          "text": [
            "$\\left[\\begin{matrix}a_{11} & a_{12}\\\\a_{12} & a_{22}\\end{matrix}\\right]$\n",
            "$\\left[\\begin{matrix}a_{12} & a_{13}\\\\a_{22} & a_{23}\\end{matrix}\\right]$\n",
            "$\\left[\\begin{matrix}a_{13} & a_{14}\\\\a_{23} & a_{24}\\end{matrix}\\right]$\n"
          ],
          "name": "stdout"
        }
      ]
    },
    {
      "metadata": {
        "id": "FKL3-7iqT6j9",
        "colab_type": "text"
      },
      "cell_type": "markdown",
      "source": [
        "$\\left[\\begin{matrix}a_{11} & a_{12}\\\\a_{12} & a_{22}\\end{matrix}\\right]$\n",
        "$\\left[\\begin{matrix}a_{12} & a_{13}\\\\a_{22} & a_{23}\\end{matrix}\\right]$\n",
        "$\\left[\\begin{matrix}a_{13} & a_{14}\\\\a_{23} & a_{24}\\end{matrix}\\right]$"
      ]
    },
    {
      "metadata": {
        "id": "P47qK2xsTnAG",
        "colab_type": "code",
        "colab": {
          "autoexec": {
            "startup": false,
            "wait_interval": 0
          }
        }
      },
      "cell_type": "code",
      "source": [
        ""
      ],
      "execution_count": 0,
      "outputs": []
    }
  ]
}